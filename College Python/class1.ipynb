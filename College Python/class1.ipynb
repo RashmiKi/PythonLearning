{
 "cells": [
  {
   "cell_type": "markdown",
   "id": "3d42743f",
   "metadata": {},
   "source": [
    "## Class 1 (31.07.2025)"
   ]
  },
  {
   "cell_type": "code",
   "execution_count": 1,
   "id": "5df06aff",
   "metadata": {},
   "outputs": [
    {
     "name": "stdout",
     "output_type": "stream",
     "text": [
      "Hello Python\n"
     ]
    }
   ],
   "source": [
    "print(\"Hello Python\")"
   ]
  },
  {
   "cell_type": "code",
   "execution_count": 2,
   "id": "94d42d41",
   "metadata": {},
   "outputs": [
    {
     "name": "stdout",
     "output_type": "stream",
     "text": [
      "390\n"
     ]
    }
   ],
   "source": [
    "print(100+290)"
   ]
  },
  {
   "cell_type": "code",
   "execution_count": 3,
   "id": "58c262a8",
   "metadata": {},
   "outputs": [
    {
     "name": "stdout",
     "output_type": "stream",
     "text": [
      "256\n"
     ]
    }
   ],
   "source": [
    "print(16**2)"
   ]
  },
  {
   "cell_type": "code",
   "execution_count": 4,
   "id": "39da915e",
   "metadata": {},
   "outputs": [
    {
     "name": "stdout",
     "output_type": "stream",
     "text": [
      "['apple', 'banana', 'cherry']\n"
     ]
    }
   ],
   "source": [
    "fruits = [\"apple\", \"banana\", \"cherry\"]\n",
    "print(fruits)"
   ]
  },
  {
   "cell_type": "code",
   "execution_count": 7,
   "id": "83fd6870",
   "metadata": {},
   "outputs": [
    {
     "name": "stdout",
     "output_type": "stream",
     "text": [
      "['apple', 'grapes', 'grapes', 'grapes', 'banana', 'orange', 'Mango', 'Kiwi', 'orange', 'orange', 'Mango', 'Kiwi']\n"
     ]
    }
   ],
   "source": [
    "fruits.append(\"orange\")\n",
    "fruits. insert(1, \"grapes\")\n",
    "\n",
    "fruits.extend([\"Mango\", \"Kiwi\"])\n",
    "print (fruits)"
   ]
  },
  {
   "cell_type": "code",
   "execution_count": 8,
   "id": "08957693",
   "metadata": {},
   "outputs": [
    {
     "name": "stdout",
     "output_type": "stream",
     "text": [
      "['rose', 'lily', 'marigold']\n"
     ]
    }
   ],
   "source": [
    "flower = [\"rose\", \"lily\", \"marigold\"]\n",
    "print(flower)"
   ]
  },
  {
   "cell_type": "code",
   "execution_count": 14,
   "id": "b9baf95d",
   "metadata": {},
   "outputs": [
    {
     "name": "stdout",
     "output_type": "stream",
     "text": [
      "['rose', 'lily', 'marigold', 'Orchid', 'Marigold', 'Orchid', 'Marigold', 'Orchid', 'lotus']\n"
     ]
    }
   ],
   "source": [
    "flower.append(\"Orchid\")\n",
    "flower.append(\"lotus\")\n",
    "print(flower)"
   ]
  },
  {
   "cell_type": "code",
   "execution_count": null,
   "id": "bd9e763e",
   "metadata": {},
   "outputs": [],
   "source": []
  },
  {
   "cell_type": "code",
   "execution_count": null,
   "id": "27cba4ff",
   "metadata": {},
   "outputs": [],
   "source": []
  }
 ],
 "metadata": {
  "kernelspec": {
   "display_name": "Python 3",
   "language": "python",
   "name": "python3"
  },
  "language_info": {
   "codemirror_mode": {
    "name": "ipython",
    "version": 3
   },
   "file_extension": ".py",
   "mimetype": "text/x-python",
   "name": "python",
   "nbconvert_exporter": "python",
   "pygments_lexer": "ipython3",
   "version": "3.13.0"
  }
 },
 "nbformat": 4,
 "nbformat_minor": 5
}
